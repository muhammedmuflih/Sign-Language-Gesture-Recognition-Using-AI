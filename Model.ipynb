{
 "cells": [
  {
   "cell_type": "code",
   "execution_count": 2,
   "id": "20a84c40",
   "metadata": {},
   "outputs": [
    {
     "name": "stdout",
     "output_type": "stream",
     "text": [
      "Found 44400 images belonging to 37 classes.\n",
      "Found 11100 images belonging to 37 classes.\n",
      "Epoch 1/25\n",
      "\u001b[1m1388/1388\u001b[0m \u001b[32m━━━━━━━━━━━━━━━━━━━━\u001b[0m\u001b[37m\u001b[0m \u001b[1m0s\u001b[0m 1s/step - accuracy: 0.0641 - loss: 14.2346 - top_k_categorical_accuracy: 0.1621"
     ]
    },
    {
     "name": "stderr",
     "output_type": "stream",
     "text": [
      "WARNING:absl:You are saving your model as an HDF5 file via `model.save()` or `keras.saving.save_model(model)`. This file format is considered legacy. We recommend using instead the native Keras format, e.g. `model.save('my_model.keras')` or `keras.saving.save_model(model, 'my_model.keras')`. \n"
     ]
    },
    {
     "name": "stdout",
     "output_type": "stream",
     "text": [
      "\u001b[1m1388/1388\u001b[0m \u001b[32m━━━━━━━━━━━━━━━━━━━━\u001b[0m\u001b[37m\u001b[0m \u001b[1m1928s\u001b[0m 1s/step - accuracy: 0.0641 - loss: 14.2337 - top_k_categorical_accuracy: 0.1622 - val_accuracy: 0.4483 - val_loss: 9.6193 - val_top_k_categorical_accuracy: 0.7172 - learning_rate: 1.0000e-04\n",
      "Epoch 2/25\n",
      "\u001b[1m1388/1388\u001b[0m \u001b[32m━━━━━━━━━━━━━━━━━━━━\u001b[0m\u001b[37m\u001b[0m \u001b[1m0s\u001b[0m 1s/step - accuracy: 0.3474 - loss: 9.3476 - top_k_categorical_accuracy: 0.5939"
     ]
    },
    {
     "name": "stderr",
     "output_type": "stream",
     "text": [
      "WARNING:absl:You are saving your model as an HDF5 file via `model.save()` or `keras.saving.save_model(model)`. This file format is considered legacy. We recommend using instead the native Keras format, e.g. `model.save('my_model.keras')` or `keras.saving.save_model(model, 'my_model.keras')`. \n"
     ]
    },
    {
     "name": "stdout",
     "output_type": "stream",
     "text": [
      "\u001b[1m1388/1388\u001b[0m \u001b[32m━━━━━━━━━━━━━━━━━━━━\u001b[0m\u001b[37m\u001b[0m \u001b[1m1809s\u001b[0m 1s/step - accuracy: 0.3475 - loss: 9.3468 - top_k_categorical_accuracy: 0.5940 - val_accuracy: 0.7911 - val_loss: 5.7731 - val_top_k_categorical_accuracy: 0.9314 - learning_rate: 1.0000e-04\n",
      "Epoch 3/25\n",
      "\u001b[1m1388/1388\u001b[0m \u001b[32m━━━━━━━━━━━━━━━━━━━━\u001b[0m\u001b[37m\u001b[0m \u001b[1m0s\u001b[0m 887ms/step - accuracy: 0.6683 - loss: 5.5827 - top_k_categorical_accuracy: 0.8629"
     ]
    },
    {
     "name": "stderr",
     "output_type": "stream",
     "text": [
      "WARNING:absl:You are saving your model as an HDF5 file via `model.save()` or `keras.saving.save_model(model)`. This file format is considered legacy. We recommend using instead the native Keras format, e.g. `model.save('my_model.keras')` or `keras.saving.save_model(model, 'my_model.keras')`. \n"
     ]
    },
    {
     "name": "stdout",
     "output_type": "stream",
     "text": [
      "\u001b[1m1388/1388\u001b[0m \u001b[32m━━━━━━━━━━━━━━━━━━━━\u001b[0m\u001b[37m\u001b[0m \u001b[1m1426s\u001b[0m 1s/step - accuracy: 0.6684 - loss: 5.5822 - top_k_categorical_accuracy: 0.8630 - val_accuracy: 0.8987 - val_loss: 3.2511 - val_top_k_categorical_accuracy: 0.9755 - learning_rate: 1.0000e-04\n",
      "Epoch 4/25\n",
      "\u001b[1m1388/1388\u001b[0m \u001b[32m━━━━━━━━━━━━━━━━━━━━\u001b[0m\u001b[37m\u001b[0m \u001b[1m0s\u001b[0m 1s/step - accuracy: 0.8077 - loss: 3.1881 - top_k_categorical_accuracy: 0.9340"
     ]
    },
    {
     "name": "stderr",
     "output_type": "stream",
     "text": [
      "WARNING:absl:You are saving your model as an HDF5 file via `model.save()` or `keras.saving.save_model(model)`. This file format is considered legacy. We recommend using instead the native Keras format, e.g. `model.save('my_model.keras')` or `keras.saving.save_model(model, 'my_model.keras')`. \n"
     ]
    },
    {
     "name": "stdout",
     "output_type": "stream",
     "text": [
      "\u001b[1m1388/1388\u001b[0m \u001b[32m━━━━━━━━━━━━━━━━━━━━\u001b[0m\u001b[37m\u001b[0m \u001b[1m2321s\u001b[0m 2s/step - accuracy: 0.8077 - loss: 3.1878 - top_k_categorical_accuracy: 0.9340 - val_accuracy: 0.9394 - val_loss: 1.7789 - val_top_k_categorical_accuracy: 0.9868 - learning_rate: 1.0000e-04\n",
      "Epoch 5/25\n",
      "\u001b[1m1388/1388\u001b[0m \u001b[32m━━━━━━━━━━━━━━━━━━━━\u001b[0m\u001b[37m\u001b[0m \u001b[1m0s\u001b[0m 1s/step - accuracy: 0.8747 - loss: 1.8129 - top_k_categorical_accuracy: 0.9627"
     ]
    },
    {
     "name": "stderr",
     "output_type": "stream",
     "text": [
      "WARNING:absl:You are saving your model as an HDF5 file via `model.save()` or `keras.saving.save_model(model)`. This file format is considered legacy. We recommend using instead the native Keras format, e.g. `model.save('my_model.keras')` or `keras.saving.save_model(model, 'my_model.keras')`. \n"
     ]
    },
    {
     "name": "stdout",
     "output_type": "stream",
     "text": [
      "\u001b[1m1388/1388\u001b[0m \u001b[32m━━━━━━━━━━━━━━━━━━━━\u001b[0m\u001b[37m\u001b[0m \u001b[1m1787s\u001b[0m 1s/step - accuracy: 0.8747 - loss: 1.8128 - top_k_categorical_accuracy: 0.9627 - val_accuracy: 0.9488 - val_loss: 1.0587 - val_top_k_categorical_accuracy: 0.9900 - learning_rate: 1.0000e-04\n",
      "Epoch 6/25\n",
      "\u001b[1m1388/1388\u001b[0m \u001b[32m━━━━━━━━━━━━━━━━━━━━\u001b[0m\u001b[37m\u001b[0m \u001b[1m0s\u001b[0m 973ms/step - accuracy: 0.9026 - loss: 1.1283 - top_k_categorical_accuracy: 0.9723"
     ]
    },
    {
     "name": "stderr",
     "output_type": "stream",
     "text": [
      "WARNING:absl:You are saving your model as an HDF5 file via `model.save()` or `keras.saving.save_model(model)`. This file format is considered legacy. We recommend using instead the native Keras format, e.g. `model.save('my_model.keras')` or `keras.saving.save_model(model, 'my_model.keras')`. \n"
     ]
    },
    {
     "name": "stdout",
     "output_type": "stream",
     "text": [
      "\u001b[1m1388/1388\u001b[0m \u001b[32m━━━━━━━━━━━━━━━━━━━━\u001b[0m\u001b[37m\u001b[0m \u001b[1m1626s\u001b[0m 1s/step - accuracy: 0.9026 - loss: 1.1282 - top_k_categorical_accuracy: 0.9723 - val_accuracy: 0.9613 - val_loss: 0.6824 - val_top_k_categorical_accuracy: 0.9927 - learning_rate: 1.0000e-04\n",
      "Epoch 7/25\n",
      "\u001b[1m1388/1388\u001b[0m \u001b[32m━━━━━━━━━━━━━━━━━━━━\u001b[0m\u001b[37m\u001b[0m \u001b[1m0s\u001b[0m 976ms/step - accuracy: 0.9197 - loss: 0.7800 - top_k_categorical_accuracy: 0.9811"
     ]
    },
    {
     "name": "stderr",
     "output_type": "stream",
     "text": [
      "WARNING:absl:You are saving your model as an HDF5 file via `model.save()` or `keras.saving.save_model(model)`. This file format is considered legacy. We recommend using instead the native Keras format, e.g. `model.save('my_model.keras')` or `keras.saving.save_model(model, 'my_model.keras')`. \n"
     ]
    },
    {
     "name": "stdout",
     "output_type": "stream",
     "text": [
      "\u001b[1m1388/1388\u001b[0m \u001b[32m━━━━━━━━━━━━━━━━━━━━\u001b[0m\u001b[37m\u001b[0m \u001b[1m1527s\u001b[0m 1s/step - accuracy: 0.9197 - loss: 0.7800 - top_k_categorical_accuracy: 0.9811 - val_accuracy: 0.9686 - val_loss: 0.4964 - val_top_k_categorical_accuracy: 0.9943 - learning_rate: 1.0000e-04\n",
      "Epoch 8/25\n",
      "\u001b[1m1388/1388\u001b[0m \u001b[32m━━━━━━━━━━━━━━━━━━━━\u001b[0m\u001b[37m\u001b[0m \u001b[1m0s\u001b[0m 817ms/step - accuracy: 0.9344 - loss: 0.5852 - top_k_categorical_accuracy: 0.9841"
     ]
    },
    {
     "name": "stderr",
     "output_type": "stream",
     "text": [
      "WARNING:absl:You are saving your model as an HDF5 file via `model.save()` or `keras.saving.save_model(model)`. This file format is considered legacy. We recommend using instead the native Keras format, e.g. `model.save('my_model.keras')` or `keras.saving.save_model(model, 'my_model.keras')`. \n"
     ]
    },
    {
     "name": "stdout",
     "output_type": "stream",
     "text": [
      "\u001b[1m1388/1388\u001b[0m \u001b[32m━━━━━━━━━━━━━━━━━━━━\u001b[0m\u001b[37m\u001b[0m \u001b[1m1300s\u001b[0m 936ms/step - accuracy: 0.9344 - loss: 0.5852 - top_k_categorical_accuracy: 0.9841 - val_accuracy: 0.9612 - val_loss: 0.4190 - val_top_k_categorical_accuracy: 0.9933 - learning_rate: 1.0000e-04\n",
      "Epoch 9/25\n",
      "\u001b[1m1388/1388\u001b[0m \u001b[32m━━━━━━━━━━━━━━━━━━━━\u001b[0m\u001b[37m\u001b[0m \u001b[1m0s\u001b[0m 806ms/step - accuracy: 0.9380 - loss: 0.4929 - top_k_categorical_accuracy: 0.9849"
     ]
    },
    {
     "name": "stderr",
     "output_type": "stream",
     "text": [
      "WARNING:absl:You are saving your model as an HDF5 file via `model.save()` or `keras.saving.save_model(model)`. This file format is considered legacy. We recommend using instead the native Keras format, e.g. `model.save('my_model.keras')` or `keras.saving.save_model(model, 'my_model.keras')`. \n"
     ]
    },
    {
     "name": "stdout",
     "output_type": "stream",
     "text": [
      "\u001b[1m1388/1388\u001b[0m \u001b[32m━━━━━━━━━━━━━━━━━━━━\u001b[0m\u001b[37m\u001b[0m \u001b[1m1286s\u001b[0m 926ms/step - accuracy: 0.9380 - loss: 0.4929 - top_k_categorical_accuracy: 0.9849 - val_accuracy: 0.9755 - val_loss: 0.3255 - val_top_k_categorical_accuracy: 0.9964 - learning_rate: 1.0000e-04\n",
      "Epoch 10/25\n",
      "\u001b[1m1388/1388\u001b[0m \u001b[32m━━━━━━━━━━━━━━━━━━━━\u001b[0m\u001b[37m\u001b[0m \u001b[1m0s\u001b[0m 941ms/step - accuracy: 0.9476 - loss: 0.4176 - top_k_categorical_accuracy: 0.9881"
     ]
    },
    {
     "name": "stderr",
     "output_type": "stream",
     "text": [
      "WARNING:absl:You are saving your model as an HDF5 file via `model.save()` or `keras.saving.save_model(model)`. This file format is considered legacy. We recommend using instead the native Keras format, e.g. `model.save('my_model.keras')` or `keras.saving.save_model(model, 'my_model.keras')`. \n"
     ]
    },
    {
     "name": "stdout",
     "output_type": "stream",
     "text": [
      "\u001b[1m1388/1388\u001b[0m \u001b[32m━━━━━━━━━━━━━━━━━━━━\u001b[0m\u001b[37m\u001b[0m \u001b[1m1469s\u001b[0m 1s/step - accuracy: 0.9476 - loss: 0.4176 - top_k_categorical_accuracy: 0.9881 - val_accuracy: 0.9739 - val_loss: 0.2970 - val_top_k_categorical_accuracy: 0.9949 - learning_rate: 1.0000e-04\n",
      "Epoch 11/25\n",
      "\u001b[1m1388/1388\u001b[0m \u001b[32m━━━━━━━━━━━━━━━━━━━━\u001b[0m\u001b[37m\u001b[0m \u001b[1m0s\u001b[0m 825ms/step - accuracy: 0.9521 - loss: 0.3725 - top_k_categorical_accuracy: 0.9891"
     ]
    },
    {
     "name": "stderr",
     "output_type": "stream",
     "text": [
      "WARNING:absl:You are saving your model as an HDF5 file via `model.save()` or `keras.saving.save_model(model)`. This file format is considered legacy. We recommend using instead the native Keras format, e.g. `model.save('my_model.keras')` or `keras.saving.save_model(model, 'my_model.keras')`. \n"
     ]
    },
    {
     "name": "stdout",
     "output_type": "stream",
     "text": [
      "\u001b[1m1388/1388\u001b[0m \u001b[32m━━━━━━━━━━━━━━━━━━━━\u001b[0m\u001b[37m\u001b[0m \u001b[1m1431s\u001b[0m 1s/step - accuracy: 0.9521 - loss: 0.3725 - top_k_categorical_accuracy: 0.9891 - val_accuracy: 0.9761 - val_loss: 0.2677 - val_top_k_categorical_accuracy: 0.9964 - learning_rate: 1.0000e-04\n",
      "Epoch 12/25\n",
      "\u001b[1m1388/1388\u001b[0m \u001b[32m━━━━━━━━━━━━━━━━━━━━\u001b[0m\u001b[37m\u001b[0m \u001b[1m0s\u001b[0m 988ms/step - accuracy: 0.9549 - loss: 0.3436 - top_k_categorical_accuracy: 0.9896"
     ]
    },
    {
     "name": "stderr",
     "output_type": "stream",
     "text": [
      "WARNING:absl:You are saving your model as an HDF5 file via `model.save()` or `keras.saving.save_model(model)`. This file format is considered legacy. We recommend using instead the native Keras format, e.g. `model.save('my_model.keras')` or `keras.saving.save_model(model, 'my_model.keras')`. \n"
     ]
    },
    {
     "name": "stdout",
     "output_type": "stream",
     "text": [
      "\u001b[1m1388/1388\u001b[0m \u001b[32m━━━━━━━━━━━━━━━━━━━━\u001b[0m\u001b[37m\u001b[0m \u001b[1m1533s\u001b[0m 1s/step - accuracy: 0.9549 - loss: 0.3436 - top_k_categorical_accuracy: 0.9896 - val_accuracy: 0.9791 - val_loss: 0.2516 - val_top_k_categorical_accuracy: 0.9962 - learning_rate: 1.0000e-04\n",
      "Epoch 13/25\n",
      "\u001b[1m1388/1388\u001b[0m \u001b[32m━━━━━━━━━━━━━━━━━━━━\u001b[0m\u001b[37m\u001b[0m \u001b[1m0s\u001b[0m 794ms/step - accuracy: 0.9598 - loss: 0.3190 - top_k_categorical_accuracy: 0.9911"
     ]
    },
    {
     "name": "stderr",
     "output_type": "stream",
     "text": [
      "WARNING:absl:You are saving your model as an HDF5 file via `model.save()` or `keras.saving.save_model(model)`. This file format is considered legacy. We recommend using instead the native Keras format, e.g. `model.save('my_model.keras')` or `keras.saving.save_model(model, 'my_model.keras')`. \n"
     ]
    },
    {
     "name": "stdout",
     "output_type": "stream",
     "text": [
      "\u001b[1m1388/1388\u001b[0m \u001b[32m━━━━━━━━━━━━━━━━━━━━\u001b[0m\u001b[37m\u001b[0m \u001b[1m1268s\u001b[0m 913ms/step - accuracy: 0.9598 - loss: 0.3189 - top_k_categorical_accuracy: 0.9911 - val_accuracy: 0.9783 - val_loss: 0.2417 - val_top_k_categorical_accuracy: 0.9973 - learning_rate: 1.0000e-04\n",
      "Epoch 14/25\n",
      "\u001b[1m1388/1388\u001b[0m \u001b[32m━━━━━━━━━━━━━━━━━━━━\u001b[0m\u001b[37m\u001b[0m \u001b[1m0s\u001b[0m 790ms/step - accuracy: 0.9571 - loss: 0.3115 - top_k_categorical_accuracy: 0.9912"
     ]
    },
    {
     "name": "stderr",
     "output_type": "stream",
     "text": [
      "WARNING:absl:You are saving your model as an HDF5 file via `model.save()` or `keras.saving.save_model(model)`. This file format is considered legacy. We recommend using instead the native Keras format, e.g. `model.save('my_model.keras')` or `keras.saving.save_model(model, 'my_model.keras')`. \n"
     ]
    },
    {
     "name": "stdout",
     "output_type": "stream",
     "text": [
      "\u001b[1m1388/1388\u001b[0m \u001b[32m━━━━━━━━━━━━━━━━━━━━\u001b[0m\u001b[37m\u001b[0m \u001b[1m1259s\u001b[0m 907ms/step - accuracy: 0.9571 - loss: 0.3115 - top_k_categorical_accuracy: 0.9912 - val_accuracy: 0.9813 - val_loss: 0.2273 - val_top_k_categorical_accuracy: 0.9965 - learning_rate: 1.0000e-04\n",
      "Epoch 15/25\n",
      "\u001b[1m1388/1388\u001b[0m \u001b[32m━━━━━━━━━━━━━━━━━━━━\u001b[0m\u001b[37m\u001b[0m \u001b[1m0s\u001b[0m 791ms/step - accuracy: 0.9634 - loss: 0.2880 - top_k_categorical_accuracy: 0.9921"
     ]
    },
    {
     "name": "stderr",
     "output_type": "stream",
     "text": [
      "WARNING:absl:You are saving your model as an HDF5 file via `model.save()` or `keras.saving.save_model(model)`. This file format is considered legacy. We recommend using instead the native Keras format, e.g. `model.save('my_model.keras')` or `keras.saving.save_model(model, 'my_model.keras')`. \n"
     ]
    },
    {
     "name": "stdout",
     "output_type": "stream",
     "text": [
      "\u001b[1m1388/1388\u001b[0m \u001b[32m━━━━━━━━━━━━━━━━━━━━\u001b[0m\u001b[37m\u001b[0m \u001b[1m1263s\u001b[0m 910ms/step - accuracy: 0.9634 - loss: 0.2880 - top_k_categorical_accuracy: 0.9921 - val_accuracy: 0.9823 - val_loss: 0.2151 - val_top_k_categorical_accuracy: 0.9973 - learning_rate: 1.0000e-04\n",
      "Epoch 16/25\n",
      "\u001b[1m1388/1388\u001b[0m \u001b[32m━━━━━━━━━━━━━━━━━━━━\u001b[0m\u001b[37m\u001b[0m \u001b[1m1273s\u001b[0m 917ms/step - accuracy: 0.9649 - loss: 0.2750 - top_k_categorical_accuracy: 0.9928 - val_accuracy: 0.9795 - val_loss: 0.2226 - val_top_k_categorical_accuracy: 0.9971 - learning_rate: 1.0000e-04\n",
      "Epoch 17/25\n",
      "\u001b[1m1388/1388\u001b[0m \u001b[32m━━━━━━━━━━━━━━━━━━━━\u001b[0m\u001b[37m\u001b[0m \u001b[1m0s\u001b[0m 1s/step - accuracy: 0.9669 - loss: 0.2708 - top_k_categorical_accuracy: 0.9930"
     ]
    },
    {
     "name": "stderr",
     "output_type": "stream",
     "text": [
      "WARNING:absl:You are saving your model as an HDF5 file via `model.save()` or `keras.saving.save_model(model)`. This file format is considered legacy. We recommend using instead the native Keras format, e.g. `model.save('my_model.keras')` or `keras.saving.save_model(model, 'my_model.keras')`. \n"
     ]
    },
    {
     "name": "stdout",
     "output_type": "stream",
     "text": [
      "\u001b[1m1388/1388\u001b[0m \u001b[32m━━━━━━━━━━━━━━━━━━━━\u001b[0m\u001b[37m\u001b[0m \u001b[1m1694s\u001b[0m 1s/step - accuracy: 0.9669 - loss: 0.2708 - top_k_categorical_accuracy: 0.9930 - val_accuracy: 0.9841 - val_loss: 0.2088 - val_top_k_categorical_accuracy: 0.9971 - learning_rate: 1.0000e-04\n",
      "Epoch 18/25\n",
      "\u001b[1m1388/1388\u001b[0m \u001b[32m━━━━━━━━━━━━━━━━━━━━\u001b[0m\u001b[37m\u001b[0m \u001b[1m0s\u001b[0m 864ms/step - accuracy: 0.9701 - loss: 0.2580 - top_k_categorical_accuracy: 0.9930"
     ]
    },
    {
     "name": "stderr",
     "output_type": "stream",
     "text": [
      "WARNING:absl:You are saving your model as an HDF5 file via `model.save()` or `keras.saving.save_model(model)`. This file format is considered legacy. We recommend using instead the native Keras format, e.g. `model.save('my_model.keras')` or `keras.saving.save_model(model, 'my_model.keras')`. \n"
     ]
    },
    {
     "name": "stdout",
     "output_type": "stream",
     "text": [
      "\u001b[1m1388/1388\u001b[0m \u001b[32m━━━━━━━━━━━━━━━━━━━━\u001b[0m\u001b[37m\u001b[0m \u001b[1m1366s\u001b[0m 984ms/step - accuracy: 0.9701 - loss: 0.2580 - top_k_categorical_accuracy: 0.9930 - val_accuracy: 0.9845 - val_loss: 0.1977 - val_top_k_categorical_accuracy: 0.9976 - learning_rate: 1.0000e-04\n",
      "Epoch 19/25\n",
      "\u001b[1m1388/1388\u001b[0m \u001b[32m━━━━━━━━━━━━━━━━━━━━\u001b[0m\u001b[37m\u001b[0m \u001b[1m0s\u001b[0m 825ms/step - accuracy: 0.9681 - loss: 0.2578 - top_k_categorical_accuracy: 0.9939"
     ]
    },
    {
     "name": "stderr",
     "output_type": "stream",
     "text": [
      "WARNING:absl:You are saving your model as an HDF5 file via `model.save()` or `keras.saving.save_model(model)`. This file format is considered legacy. We recommend using instead the native Keras format, e.g. `model.save('my_model.keras')` or `keras.saving.save_model(model, 'my_model.keras')`. \n"
     ]
    },
    {
     "name": "stdout",
     "output_type": "stream",
     "text": [
      "\u001b[1m1388/1388\u001b[0m \u001b[32m━━━━━━━━━━━━━━━━━━━━\u001b[0m\u001b[37m\u001b[0m \u001b[1m1318s\u001b[0m 950ms/step - accuracy: 0.9681 - loss: 0.2578 - top_k_categorical_accuracy: 0.9939 - val_accuracy: 0.9880 - val_loss: 0.1855 - val_top_k_categorical_accuracy: 0.9974 - learning_rate: 1.0000e-04\n",
      "Epoch 20/25\n",
      "\u001b[1m1388/1388\u001b[0m \u001b[32m━━━━━━━━━━━━━━━━━━━━\u001b[0m\u001b[37m\u001b[0m \u001b[1m1347s\u001b[0m 970ms/step - accuracy: 0.9711 - loss: 0.2436 - top_k_categorical_accuracy: 0.9940 - val_accuracy: 0.9843 - val_loss: 0.1951 - val_top_k_categorical_accuracy: 0.9973 - learning_rate: 1.0000e-04\n",
      "Epoch 21/25\n",
      "\u001b[1m1388/1388\u001b[0m \u001b[32m━━━━━━━━━━━━━━━━━━━━\u001b[0m\u001b[37m\u001b[0m \u001b[1m1467s\u001b[0m 1s/step - accuracy: 0.9727 - loss: 0.2401 - top_k_categorical_accuracy: 0.9945 - val_accuracy: 0.9838 - val_loss: 0.1975 - val_top_k_categorical_accuracy: 0.9985 - learning_rate: 1.0000e-04\n",
      "Epoch 22/25\n",
      "\u001b[1m1388/1388\u001b[0m \u001b[32m━━━━━━━━━━━━━━━━━━━━\u001b[0m\u001b[37m\u001b[0m \u001b[1m2080s\u001b[0m 1s/step - accuracy: 0.9749 - loss: 0.2306 - top_k_categorical_accuracy: 0.9947 - val_accuracy: 0.9806 - val_loss: 0.2008 - val_top_k_categorical_accuracy: 0.9982 - learning_rate: 1.0000e-04\n",
      "Epoch 23/25\n",
      "\u001b[1m1388/1388\u001b[0m \u001b[32m━━━━━━━━━━━━━━━━━━━━\u001b[0m\u001b[37m\u001b[0m \u001b[1m1659s\u001b[0m 1s/step - accuracy: 0.9734 - loss: 0.2316 - top_k_categorical_accuracy: 0.9957 - val_accuracy: 0.9825 - val_loss: 0.1926 - val_top_k_categorical_accuracy: 0.9974 - learning_rate: 1.0000e-04\n",
      "Epoch 24/25\n",
      "\u001b[1m1388/1388\u001b[0m \u001b[32m━━━━━━━━━━━━━━━━━━━━\u001b[0m\u001b[37m\u001b[0m \u001b[1m0s\u001b[0m 823ms/step - accuracy: 0.9733 - loss: 0.2306 - top_k_categorical_accuracy: 0.9950"
     ]
    },
    {
     "name": "stderr",
     "output_type": "stream",
     "text": [
      "WARNING:absl:You are saving your model as an HDF5 file via `model.save()` or `keras.saving.save_model(model)`. This file format is considered legacy. We recommend using instead the native Keras format, e.g. `model.save('my_model.keras')` or `keras.saving.save_model(model, 'my_model.keras')`. \n"
     ]
    },
    {
     "name": "stdout",
     "output_type": "stream",
     "text": [
      "\u001b[1m1388/1388\u001b[0m \u001b[32m━━━━━━━━━━━━━━━━━━━━\u001b[0m\u001b[37m\u001b[0m \u001b[1m1310s\u001b[0m 944ms/step - accuracy: 0.9733 - loss: 0.2306 - top_k_categorical_accuracy: 0.9950 - val_accuracy: 0.9881 - val_loss: 0.1732 - val_top_k_categorical_accuracy: 0.9982 - learning_rate: 1.0000e-04\n",
      "Epoch 25/25\n",
      "\u001b[1m1388/1388\u001b[0m \u001b[32m━━━━━━━━━━━━━━━━━━━━\u001b[0m\u001b[37m\u001b[0m \u001b[1m1302s\u001b[0m 938ms/step - accuracy: 0.9739 - loss: 0.2218 - top_k_categorical_accuracy: 0.9950 - val_accuracy: 0.9836 - val_loss: 0.1915 - val_top_k_categorical_accuracy: 0.9982 - learning_rate: 1.0000e-04\n"
     ]
    }
   ],
   "source": [
    "import tensorflow as tf\n",
    "from tensorflow.keras.preprocessing.image import ImageDataGenerator\n",
    "from tensorflow.keras.models import Sequential\n",
    "from tensorflow.keras.layers import Dense, Dropout, BatchNormalization, GlobalAveragePooling2D\n",
    "from tensorflow.keras.applications import EfficientNetB0\n",
    "from tensorflow.keras.callbacks import EarlyStopping, ReduceLROnPlateau\n",
    "import pickle\n",
    "import os\n",
    "\n",
    "# Load dataset\n",
    "DATASET_PATH = r\"C:\\Users\\ADMIN\\Documents\\sign_language\\sign_language_app\\Gesture Image Pre-Processed Data\"\n",
    "IMG_SIZE = (224, 224)  # Increased from 128 to better utilize EfficientNet\n",
    "BATCH_SIZE = 32\n",
    "\n",
    "# Enhanced Data Augmentation\n",
    "train_datagen = ImageDataGenerator(\n",
    "    rescale=1./255,\n",
    "    rotation_range=40,\n",
    "    width_shift_range=0.3,\n",
    "    height_shift_range=0.3,\n",
    "    shear_range=0.3,\n",
    "    zoom_range=0.4,\n",
    "    horizontal_flip=True,\n",
    "    brightness_range=[0.7, 1.3],\n",
    "    fill_mode='nearest',\n",
    "    validation_split=0.2\n",
    ")\n",
    "\n",
    "train_generator = train_datagen.flow_from_directory(\n",
    "    DATASET_PATH,\n",
    "    target_size=IMG_SIZE,\n",
    "    batch_size=BATCH_SIZE,\n",
    "    class_mode='categorical',\n",
    "    subset='training',\n",
    "    shuffle=True\n",
    ")\n",
    "\n",
    "val_generator = train_datagen.flow_from_directory(\n",
    "    DATASET_PATH,\n",
    "    target_size=IMG_SIZE,\n",
    "    batch_size=BATCH_SIZE,\n",
    "    class_mode='categorical',\n",
    "    subset='validation',\n",
    "    shuffle=False\n",
    ")\n",
    "\n",
    "# Save class labels\n",
    "with open(\"classes.pkl\", \"wb\") as f:\n",
    "    pickle.dump(train_generator.class_indices, f)\n",
    "\n",
    "# Load Pretrained EfficientNet with improved settings\n",
    "base_model = EfficientNetB0(\n",
    "    input_shape=(224, 224, 3),\n",
    "    include_top=False,\n",
    "    weights='imagenet',\n",
    "    pooling=None\n",
    ")\n",
    "\n",
    "# Gradual unfreezing strategy\n",
    "base_model.trainable = True\n",
    "for layer in base_model.layers[:100]:\n",
    "    layer.trainable = False\n",
    "\n",
    "# Build Enhanced Model\n",
    "model = Sequential([\n",
    "    base_model,\n",
    "    GlobalAveragePooling2D(),\n",
    "    BatchNormalization(),\n",
    "    Dropout(0.5),\n",
    "    Dense(512, activation='relu', kernel_regularizer=tf.keras.regularizers.l2(0.01)),\n",
    "    BatchNormalization(),\n",
    "    Dropout(0.5),\n",
    "    Dense(256, activation='relu', kernel_regularizer=tf.keras.regularizers.l2(0.01)),\n",
    "    BatchNormalization(),\n",
    "    Dropout(0.4),\n",
    "    Dense(len(train_generator.class_indices), activation='softmax')\n",
    "])\n",
    "\n",
    "# Improved Model Compilation\n",
    "optimizer = tf.keras.optimizers.Adam(learning_rate=0.0001)\n",
    "model.compile(\n",
    "    optimizer=optimizer,\n",
    "    loss='categorical_crossentropy',\n",
    "    metrics=['accuracy', tf.keras.metrics.TopKCategoricalAccuracy(k=3)]\n",
    ")\n",
    "\n",
    "# Callbacks for better training\n",
    "callbacks = [\n",
    "    EarlyStopping(monitor='val_accuracy', patience=10, restore_best_weights=True),\n",
    "    ReduceLROnPlateau(monitor='val_loss', factor=0.2, patience=5, min_lr=1e-7),\n",
    "    tf.keras.callbacks.ModelCheckpoint('best_model.h5', save_best_only=True)\n",
    "]\n",
    "\n",
    "# Train Model with more epochs\n",
    "EPOCHS = 25\n",
    "history = model.fit(\n",
    "    train_generator,\n",
    "    validation_data=val_generator,\n",
    "    epochs=EPOCHS,\n",
    "    callbacks=callbacks,\n",
    "    verbose=1\n",
    ")\n",
    "\n",
    "# Save Model\n",
    "model.save(\"improved_sign_model.keras\")"
   ]
  }
 ],
 "metadata": {
  "kernelspec": {
   "display_name": "base",
   "language": "python",
   "name": "python3"
  },
  "language_info": {
   "codemirror_mode": {
    "name": "ipython",
    "version": 3
   },
   "file_extension": ".py",
   "mimetype": "text/x-python",
   "name": "python",
   "nbconvert_exporter": "python",
   "pygments_lexer": "ipython3",
   "version": "3.12.3"
  }
 },
 "nbformat": 4,
 "nbformat_minor": 5
}
